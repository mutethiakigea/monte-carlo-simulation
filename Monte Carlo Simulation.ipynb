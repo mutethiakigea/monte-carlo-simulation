{
 "cells": [
  {
   "cell_type": "markdown",
   "id": "fe77650c",
   "metadata": {},
   "source": [
    "## Monte Carlo Simulation\n",
    "Monte Carlo simulation is a computational technique that models and analyzes complex systems or processes through random sampling and statistical analysis. It is named after Monaco's famous Monte Carlo Casino, known for its games of chance and randomness.\n",
    "In a Monte Carlo simulation, the behavior of a system is simulated by repeatedly sampling random values from probability distributions that represent the uncertain variables in the system. These random samples are used as inputs to the model, and the model is run multiple times to generate a range of possible outcomes.\n",
    "Below is how to perform Monte Carlo Simulation in Python"
   ]
  },
  {
   "cell_type": "code",
   "execution_count": 1,
   "id": "138d1c7b",
   "metadata": {},
   "outputs": [
    {
     "data": {
      "text/plain": [
       "Text(0.5, 0, 'Areas')"
      ]
     },
     "execution_count": 1,
     "metadata": {},
     "output_type": "execute_result"
    },
    {
     "data": {
      "image/png": "[encoded data removed]",
      "text/plain": [
       "<Figure size 432x288 with 1 Axes>"
      ]
     },
     "metadata": {
      "needs_background": "light"
     },
     "output_type": "display_data"
    }
   ],
   "source": [
    "%matplotlib inline\n",
    "from scipy import random\n",
    "import numpy as np\n",
    "import matplotlib.pyplot as plt\n",
    "\n",
    "a=0\n",
    "b=np.pi #limits of integration\n",
    "N=1000\n",
    "\n",
    "xrand=np.zeros(N)\n",
    "\n",
    "for i in range(len(xrand)):\n",
    "    xrand[i]=random.uniform(a,b)\n",
    "    \n",
    "def func(x):\n",
    "    return np.sin(x)\n",
    "\n",
    "integral= 0.0\n",
    "\n",
    "for i in range(N):\n",
    "    integral +=func(xrand[i])\n",
    "    \n",
    "answer = (b-a)/float(N)*integral\n",
    "\n",
    "areas =[]\n",
    "for i in range(N):\n",
    "    xrand=np.zeros(N)\n",
    "\n",
    "    for i in range(len(xrand)):\n",
    "        xrand[i]=random.uniform(a,b)\n",
    "        integral= 0.0\n",
    "\n",
    "    for i in range(N):\n",
    "        integral +=func(xrand[i])\n",
    "    answer = (b-a)/float(N)*integral\n",
    "    areas.append(answer)\n",
    "plt.title(\"Distriution of Areas Calculated\")\n",
    "plt.hist(areas, bins =30, ec='black')\n",
    "plt.xlabel(\"Areas\")"
   ]
  }
 ],
 "metadata": {
  "kernelspec": {
   "display_name": "Python 3",
   "language": "python",
   "name": "python3"
  },
  "language_info": {
   "codemirror_mode": {
    "name": "ipython",
    "version": 3
   },
   "file_extension": ".py",
   "mimetype": "text/x-python",
   "name": "python",
   "nbconvert_exporter": "python",
   "pygments_lexer": "ipython3",
   "version": "3.8.8"
  }
 },
 "nbformat": 4,
 "nbformat_minor": 5
}
